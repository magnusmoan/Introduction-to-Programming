{
 "cells": [
  {
   "cell_type": "markdown",
   "metadata": {
    "slideshow": {
     "slide_type": "slide"
    }
   },
   "source": [
    "# Introduction to Programming in Python"
   ]
  },
  {
   "cell_type": "markdown",
   "metadata": {
    "slideshow": {
     "slide_type": "subslide"
    }
   },
   "source": [
    "## Agenda\n",
    "+ Running Python on your own computer\n",
    "+ Basic functionality: Variables, data types, user input, loops and functions\n",
    "+ Advanced functionality: File handling, external packages\n",
    "+ Where to go next"
   ]
  },
  {
   "attachments": {},
   "cell_type": "markdown",
   "metadata": {
    "slideshow": {
     "slide_type": "slide"
    }
   },
   "source": [
    "## Running Python on your own computer\n",
    "Before we start programming we need the necessary tools. In this case this means Python and a text editor. We will work with PyCharm, which is a Python specific editor.\n",
    "### Installing Python (Windows)\n",
    "1. Visit (www.python.org/downloads) and download the newest version. Hint: Click the big yellow button saying \"Download Python 3.7.0\"\n",
    "2. Install the downloaded package. Remember to click yes when asked if you want to add Python to the system path\n",
    "3. Click the windows button on your computer and write \"cmd\". Hit enter! Write \"python\" in the scary black box that opens up. If your screen looks something like the picture below you are all good. If not, let me know!\n",
    "\n",
    "<center><img src=\"python_cmd_img.png\"></center>"
   ]
  },
  {
   "cell_type": "markdown",
   "metadata": {
    "slideshow": {
     "slide_type": "subslide"
    }
   },
   "source": [
    "### Installing PyCharm\n",
    "1. Google \"Pycharm download\". Hit the top link.\n",
    "2. Choose the Community edition by clicking the black button saying \"Download\".\n",
    "3. Let it download, this will take some time, so we will move on before finishing the installation. "
   ]
  },
  {
   "cell_type": "markdown",
   "metadata": {
    "slideshow": {
     "slide_type": "slide"
    }
   },
   "source": [
    "## Hello, world!\n",
    "No true programming course starts without a \"Hello, world!\" demonstration."
   ]
  },
  {
   "cell_type": "code",
   "execution_count": null,
   "metadata": {
    "slideshow": {
     "slide_type": "fragment"
    }
   },
   "outputs": [],
   "source": [
    "# Print the text \"Hello, world!\" to the screen"
   ]
  },
  {
   "cell_type": "markdown",
   "metadata": {
    "slideshow": {
     "slide_type": "slide"
    }
   },
   "source": [
    "## Variables\n",
    "\n",
    "A variable is a place to store a value. Variables are mutable, meaning that they can change after they have been created. When naming variables in Python, two rules must be followed:\n",
    "1. The name must start with either a letter (not æøå) or a underscore.\n",
    "2. The rest of the name may only contain numbers, letters and underscores.\n",
    "\n",
    "Easily understandable variable names are highly recommended!"
   ]
  },
  {
   "cell_type": "code",
   "execution_count": null,
   "metadata": {
    "slideshow": {
     "slide_type": "subslide"
    }
   },
   "outputs": [],
   "source": [
    "# Variable assignment\n",
    "a = 1\n",
    "b = 3\n",
    "c = a + b\n",
    "print(c)"
   ]
  },
  {
   "cell_type": "code",
   "execution_count": null,
   "metadata": {
    "slideshow": {
     "slide_type": "fragment"
    }
   },
   "outputs": [],
   "source": [
    "# Variable values may change\n",
    "a = 1\n",
    "b = 3\n",
    "c = a + b\n",
    "a = 2 # What if a = c? What happens to c?\n",
    "print(c)\n",
    "print(a)"
   ]
  },
  {
   "cell_type": "code",
   "execution_count": null,
   "metadata": {
    "slideshow": {
     "slide_type": "fragment"
    }
   },
   "outputs": [],
   "source": [
    "# Increase value of an variable\n",
    "a = 1\n",
    "a = a + 2 # Short-hand: +=\n",
    "print(a)"
   ]
  },
  {
   "cell_type": "markdown",
   "metadata": {
    "slideshow": {
     "slide_type": "slide"
    }
   },
   "source": [
    "## Data types\n",
    "\n",
    "All data in a program must be represented as a data type. Examples of information you might want to represent in a data program include:\n",
    "+ Numbers\n",
    "+ Text\n",
    "+ Lists\n",
    "+ Files\n",
    "+ and many many more\n",
    "\n",
    "\n",
    "\n"
   ]
  },
  {
   "cell_type": "markdown",
   "metadata": {
    "slideshow": {
     "slide_type": "subslide"
    }
   },
   "source": [
    "In programming we are given a set of different data types to represent this information. The most common data types include:\n",
    "+ Integers: Whole numbers\n",
    "+ Floats: Decimal numbers\n",
    "+ Strings: Text\n",
    "+ Lists: Changeable list\n",
    "+ Dictionaries: Stores related information\n",
    "+ Booleans: True or False / Yes or No / 1 or 0"
   ]
  },
  {
   "cell_type": "markdown",
   "metadata": {
    "slideshow": {
     "slide_type": "subslide"
    }
   },
   "source": [
    "### Integers\n",
    "Integers are positive and negative whole numbers, i.e., no decimal numbers.  "
   ]
  },
  {
   "cell_type": "code",
   "execution_count": null,
   "metadata": {
    "slideshow": {
     "slide_type": "fragment"
    }
   },
   "outputs": [],
   "source": [
    "# Addition:\n",
    "4 + 3"
   ]
  },
  {
   "cell_type": "code",
   "execution_count": null,
   "metadata": {
    "slideshow": {
     "slide_type": "fragment"
    }
   },
   "outputs": [],
   "source": [
    "# Subtraction:\n",
    "4 - 3"
   ]
  },
  {
   "cell_type": "code",
   "execution_count": null,
   "metadata": {
    "slideshow": {
     "slide_type": "fragment"
    }
   },
   "outputs": [],
   "source": [
    "# Multiplication:\n",
    "4 * 3"
   ]
  },
  {
   "cell_type": "code",
   "execution_count": null,
   "metadata": {
    "slideshow": {
     "slide_type": "fragment"
    }
   },
   "outputs": [],
   "source": [
    "# Division:\n",
    "4 / 3"
   ]
  },
  {
   "cell_type": "code",
   "execution_count": null,
   "metadata": {
    "scrolled": false,
    "slideshow": {
     "slide_type": "fragment"
    }
   },
   "outputs": [],
   "source": [
    "# Integer division\n",
    "4 // 3"
   ]
  },
  {
   "cell_type": "code",
   "execution_count": null,
   "metadata": {
    "slideshow": {
     "slide_type": "fragment"
    }
   },
   "outputs": [],
   "source": [
    "# Raising a number\n",
    "4**2 # What about negative numbers?"
   ]
  },
  {
   "cell_type": "markdown",
   "metadata": {
    "slideshow": {
     "slide_type": "subslide"
    }
   },
   "source": [
    "### Floats\n",
    "Floats are decimal numbers. Examples: 0.1, 3.14, -2.09. All the same operations we showed for integers work for floats, even integer division. \n",
    "\n"
   ]
  },
  {
   "cell_type": "code",
   "execution_count": null,
   "metadata": {
    "slideshow": {
     "slide_type": "subslide"
    }
   },
   "outputs": [],
   "source": [
    "# A float can be converted to a int\n",
    "a_float = 3.14\n",
    "an_int = None\n",
    "a_float = None\n",
    "print(an_int, a_float)\n"
   ]
  },
  {
   "cell_type": "markdown",
   "metadata": {
    "slideshow": {
     "slide_type": "subslide"
    }
   },
   "source": [
    "### Strings\n",
    "Strings represent text. A string is created by enclosing text using either \" or '. There are no specific rule for when to use \" or ', but be consistent! \n",
    "Examples of strings: \n",
    "+ \"Visma\"\n",
    "+ \"This is a sentence\"\n",
    "+ 'a'\n",
    "\n",
    "There exists a huge amount of operations applicaple to strings. A good reference can be found [here](https://docs.python.org/2/library/string.html)."
   ]
  },
  {
   "cell_type": "code",
   "execution_count": null,
   "metadata": {
    "slideshow": {
     "slide_type": "subslide"
    }
   },
   "outputs": [],
   "source": [
    "# Merging two strings\n",
    "start = \"This is\"\n",
    "end = \"a string\"\n",
    "whole = None # Merge two strings using the + operator\n",
    "print(whole)\n"
   ]
  },
  {
   "cell_type": "code",
   "execution_count": null,
   "metadata": {
    "slideshow": {
     "slide_type": "fragment"
    }
   },
   "outputs": [],
   "source": [
    "# Merging without using variables\n",
    "whole = \"This is\" + \" \" + \"a string.\"\n",
    "print(whole)\n"
   ]
  },
  {
   "cell_type": "code",
   "execution_count": null,
   "metadata": {
    "slideshow": {
     "slide_type": "fragment"
    }
   },
   "outputs": [],
   "source": [
    "# Find the length of a string (number of characters)\n",
    "a = \"This is a sentence.\"\n",
    "b = len(a)\n",
    "print(b)\n"
   ]
  },
  {
   "cell_type": "code",
   "execution_count": null,
   "metadata": {
    "slideshow": {
     "slide_type": "subslide"
    }
   },
   "outputs": [],
   "source": [
    "# Find the nth character in a string\n",
    "a = \"This is a sentence\"\n",
    "b = a[3]\n",
    "print(b)\n"
   ]
  },
  {
   "cell_type": "code",
   "execution_count": null,
   "metadata": {
    "slideshow": {
     "slide_type": "fragment"
    }
   },
   "outputs": [],
   "source": [
    "# Merging of strings with other data types\n",
    "string_start = \"I am\"\n",
    "age = 26\n",
    "string_end = \"years old\"\n",
    "result = None # Replace None with the string saying how old I am.\n",
    "print(result)\n"
   ]
  },
  {
   "cell_type": "code",
   "execution_count": null,
   "metadata": {
    "slideshow": {
     "slide_type": "fragment"
    }
   },
   "outputs": [],
   "source": [
    "# Finding a subsequence/substring within a string\n",
    "my_string = \"This is a string\"\n",
    "substring = None # Show different ways to find a substring using slicing\n",
    "print(substring)\n"
   ]
  },
  {
   "cell_type": "markdown",
   "metadata": {
    "slideshow": {
     "slide_type": "subslide"
    }
   },
   "source": [
    "### Problem 1: Printing and mathematical operations\n",
    "In the following problem you will be asked to combine knowledge about mathematical operators. Remember that everything within a pair of \" or ' are considered to be a string, even though they are mathematical expression. An example of this is \"1+2\". \n",
    "\n",
    "When grouping longer expressions in Python we use () to group sub-expressions."
   ]
  },
  {
   "cell_type": "code",
   "execution_count": null,
   "metadata": {
    "slideshow": {
     "slide_type": "fragment"
    }
   },
   "outputs": [],
   "source": [
    "a = 3 - 2 * 4\n",
    "b = (3 - 2) * 4\n",
    "print(a)\n",
    "print(b)\n"
   ]
  },
  {
   "cell_type": "markdown",
   "metadata": {
    "slideshow": {
     "slide_type": "fragment"
    }
   },
   "source": [
    "Finally: A print statement can take an arbitrary number of arguments separated by commas, each getting printed to the screen."
   ]
  },
  {
   "cell_type": "code",
   "execution_count": null,
   "metadata": {
    "slideshow": {
     "slide_type": "fragment"
    }
   },
   "outputs": [],
   "source": [
    "a = 3\n",
    "b = 4\n",
    "print(a, b)\n"
   ]
  },
  {
   "cell_type": "markdown",
   "metadata": {
    "slideshow": {
     "slide_type": "subslide"
    }
   },
   "source": [
    "Useful operators:\n",
    "+ Addition: +\n",
    "+ Subtraction: -\n",
    "+ Multiplication: *\n",
    "+ Division: /\n",
    "+ Integer division: //\n",
    "+ Raising a number: **"
   ]
  },
  {
   "cell_type": "code",
   "execution_count": null,
   "metadata": {
    "scrolled": true,
    "slideshow": {
     "slide_type": "subslide"
    }
   },
   "outputs": [],
   "source": [
    "# Replace None with the correct mathematical expression\n",
    "print('1+2(−3) =', 1+2*(-3))\n",
    "print('[(3+5·2) + 1] : 2 =', None)\n",
    "print('-3^2+5*3-7 =', None)\n",
    "\n",
    "# 1.\n",
    "print('5:2-4 =', None)\n",
    "\n",
    "# 2.\n",
    "print('5·12+6-1 =', None)\n",
    "\n",
    "# 3.\n",
    "print('3(5+2) =', None)\n",
    "\n",
    "# 4.\n",
    "print('4[(5+3):2 +7] =', None)\n",
    "\n",
    "# 5.\n",
    "print('(−4)^(-3)+5·(3−7:2) =', None)\n"
   ]
  },
  {
   "cell_type": "markdown",
   "metadata": {
    "slideshow": {
     "slide_type": "subslide"
    }
   },
   "source": [
    "### Lists\n",
    "A list is an ordered collection."
   ]
  },
  {
   "cell_type": "code",
   "execution_count": null,
   "metadata": {
    "slideshow": {
     "slide_type": "fragment"
    }
   },
   "outputs": [],
   "source": [
    "# In Python lists are initialized using square brackets, [].\n",
    "my_list = None\n",
    "print(my_list)\n"
   ]
  },
  {
   "cell_type": "code",
   "execution_count": null,
   "metadata": {
    "slideshow": {
     "slide_type": "fragment"
    }
   },
   "outputs": [],
   "source": [
    "# It is also possible to initialized empty lists and add elements to it using the append function\n",
    "my_list = []\n",
    "\n",
    "print(my_list)\n"
   ]
  },
  {
   "cell_type": "code",
   "execution_count": null,
   "metadata": {
    "slideshow": {
     "slide_type": "subslide"
    }
   },
   "outputs": [],
   "source": [
    "# A list can contain variables\n",
    "a = 1\n",
    "b = 2\n",
    "c = 3\n",
    "my_list = [a,b,c]\n",
    "print(my_list)\n"
   ]
  },
  {
   "cell_type": "code",
   "execution_count": null,
   "metadata": {
    "slideshow": {
     "slide_type": "fragment"
    }
   },
   "outputs": [],
   "source": [
    "# A list can contain different datatypes\n",
    "a = 1.2\n",
    "b = 1\n",
    "c = \"hello\"\n",
    "my_list = [a,b,c]\n",
    "print(my_list)\n"
   ]
  },
  {
   "cell_type": "code",
   "execution_count": null,
   "metadata": {
    "scrolled": true,
    "slideshow": {
     "slide_type": "fragment"
    }
   },
   "outputs": [],
   "source": [
    "# The length of a list can be found by using the len function\n",
    "my_list = [1,2,3]\n",
    "print(len(my_list))\n"
   ]
  },
  {
   "cell_type": "code",
   "execution_count": null,
   "metadata": {
    "slideshow": {
     "slide_type": "subslide"
    }
   },
   "outputs": [],
   "source": [
    "# Sorting a list of numbers (integers or floats) using sorted\n",
    "my_list = [3, 4.5, 1, 0.8, -4]\n",
    "my_list_sorted = None # Use the function sort to sort the list in ascending and descending order\n",
    "print(my_list_sorted)\n"
   ]
  },
  {
   "cell_type": "code",
   "execution_count": null,
   "metadata": {
    "slideshow": {
     "slide_type": "fragment"
    }
   },
   "outputs": [],
   "source": [
    "# Indexing in a list\n",
    "my_list = [1,2,3,4,5]\n",
    "first = None\n",
    "last = None\n",
    "middle = None # Get the middle element of the list using len function and integer division\n",
    "print(\" First: \" + str(first) + \"\\n\", \"Last: \" + str(last) + \"\\n\", \"Middle: \" + str(middle) + \"\\n\")\n"
   ]
  },
  {
   "cell_type": "code",
   "execution_count": null,
   "metadata": {
    "slideshow": {
     "slide_type": "fragment"
    }
   },
   "outputs": [],
   "source": [
    "# Slicing a list\n",
    "my_list = [1,2,3,4,5,6]\n",
    "first_half = None # Use list slicing to get the first half of the list\n",
    "print(\"First half: \" + str(first_half))\n"
   ]
  },
  {
   "cell_type": "markdown",
   "metadata": {
    "slideshow": {
     "slide_type": "slide"
    }
   },
   "source": [
    "### Problem 2: Lists\n",
    " 1. Create a list containing the names of all the people in this room (up to 5)\n",
    " 2. Sort the list in ascending order.\n",
    " 3. Print out the name of the last person in the list\n",
    " 4. Print the first half of the list\n",
    " \n"
   ]
  },
  {
   "cell_type": "markdown",
   "metadata": {
    "slideshow": {
     "slide_type": "fragment"
    }
   },
   "source": [
    " Useful functionality: \n",
    " + _sort_ can be used to sort a list\n",
    " + Finding a specific entry in a list can be done by using square brackets\n",
    " + _len_ can be used to find the number of elements in a list"
   ]
  },
  {
   "cell_type": "code",
   "execution_count": null,
   "metadata": {
    "slideshow": {
     "slide_type": "subslide"
    }
   },
   "outputs": [],
   "source": [
    "# 1. List names\n",
    "my_list = None\n",
    "print(my_list)\n"
   ]
  },
  {
   "cell_type": "code",
   "execution_count": null,
   "metadata": {
    "slideshow": {
     "slide_type": "fragment"
    }
   },
   "outputs": [],
   "source": [
    "# 2. Sort the list\n",
    "\n",
    "print(my_list)\n"
   ]
  },
  {
   "cell_type": "code",
   "execution_count": null,
   "metadata": {
    "slideshow": {
     "slide_type": "fragment"
    }
   },
   "outputs": [],
   "source": [
    "# 3. Print last name in list\n",
    "print(None)\n"
   ]
  },
  {
   "cell_type": "code",
   "execution_count": null,
   "metadata": {
    "slideshow": {
     "slide_type": "fragment"
    }
   },
   "outputs": [],
   "source": [
    "# 4. Print first half of the list\n",
    "print(None)\n"
   ]
  },
  {
   "cell_type": "markdown",
   "metadata": {
    "slideshow": {
     "slide_type": "subslide"
    }
   },
   "source": [
    "### Dictionaries\n",
    "A dictionary is an unordered collection of related items. An example could be a collection representing the different divisions in Visma and their employees:\n",
    "+ Management Trainee: Aleksander, Viktoria, Jo, Julia\n",
    "+ Optimization Team: Martin, Carl, Sjur, Magnus\n",
    "+ HR: Irene, Hege, Merete\n",
    "\n",
    "In this case we say that the divisions (MT, OT and HR) are the *keys* in the dictionary, and the names are the *values*. The keys and values of the dictionary can be any Python data type."
   ]
  },
  {
   "cell_type": "code",
   "execution_count": null,
   "metadata": {
    "slideshow": {
     "slide_type": "subslide"
    }
   },
   "outputs": [],
   "source": [
    "# Create a dictionary representing the management trainees and the optimization team\n",
    "mt_employees = ['Aleksander', 'Viktoria', 'Jo', 'Julia']\n",
    "ot_employees= ['Martin', 'Carl', 'Sjur', 'Magnus']\n",
    "\n",
    "division_dict = {'MT': mt_employees, 'OT': ot_employees}\n",
    "print(division_dict)\n"
   ]
  },
  {
   "cell_type": "code",
   "execution_count": null,
   "metadata": {
    "slideshow": {
     "slide_type": "fragment"
    }
   },
   "outputs": [],
   "source": [
    "# Accessing all keys in a dictionary as a list\n",
    "divisions = None\n",
    "print(divisions)\n"
   ]
  },
  {
   "cell_type": "code",
   "execution_count": null,
   "metadata": {
    "slideshow": {
     "slide_type": "fragment"
    }
   },
   "outputs": [],
   "source": [
    "# Adding a new relation to the dictionary\n",
    "hr_employees = ['Irene', 'Hege', 'Merete']\n",
    "# Insert hr_employees using the key HR\n",
    "print(division_dict)\n"
   ]
  },
  {
   "cell_type": "code",
   "execution_count": null,
   "metadata": {
    "slideshow": {
     "slide_type": "fragment"
    }
   },
   "outputs": [],
   "source": [
    "# Removing a relation from the dictionary\n",
    "# Delete the Optimization Team :(\n",
    "print(division_dict)\n"
   ]
  },
  {
   "cell_type": "code",
   "execution_count": null,
   "metadata": {
    "slideshow": {
     "slide_type": "fragment"
    }
   },
   "outputs": [],
   "source": [
    "# Accessing an item from the dictionary\n",
    "division_employees = None\n",
    "print(division_employees) # Show error message\n"
   ]
  },
  {
   "cell_type": "markdown",
   "metadata": {
    "slideshow": {
     "slide_type": "slide"
    }
   },
   "source": [
    "## Booleans, Logical Test and Conditions\n",
    "In the world of computers there are in reality only two values, 0 and 1. Everything in a computer is built from these two values. In Python we represent these simplest of building blocks using *booleans*; True or False.\n"
   ]
  },
  {
   "cell_type": "code",
   "execution_count": null,
   "metadata": {
    "slideshow": {
     "slide_type": "fragment"
    }
   },
   "outputs": [],
   "source": [
    "# True or False are like any other value and can be assigned to a variable\n",
    "a = True\n",
    "b = False\n"
   ]
  },
  {
   "cell_type": "markdown",
   "metadata": {
    "slideshow": {
     "slide_type": "fragment"
    }
   },
   "source": [
    "Booleans are usually the result of a *logical test*. In Python we have 7 logical tests:\n",
    "+ Equality (==)\n",
    "+ Inequality (!=)\n",
    "+ Greater (>)\n",
    "+ Less (>)\n",
    "+ Greater or equal (>=)\n",
    "+ Less or equal (<=)\n",
    "+ List existence (in)"
   ]
  },
  {
   "cell_type": "code",
   "execution_count": null,
   "metadata": {
    "slideshow": {
     "slide_type": "subslide"
    }
   },
   "outputs": [],
   "source": [
    "# Test if two numbers are equal, and store the resulting boolean in a variable\n",
    "result = None\n",
    "print(result)\n"
   ]
  },
  {
   "cell_type": "markdown",
   "metadata": {
    "slideshow": {
     "slide_type": "fragment"
    }
   },
   "source": [
    "Booleans are used when testing *conditions*. A condition can be framed as a yes or no question:\n",
    "+ If yes, then do something\n",
    "+ If no, do something else\n",
    "\n",
    "In Python this is represented using an *if-else statement*. The general syntax of an if-else statement is as follow:\n",
    "```python\n",
    "if expression:\n",
    "    statement(s)\n",
    "else:\n",
    "    statement(s)\n",
    "```"
   ]
  },
  {
   "cell_type": "code",
   "execution_count": null,
   "metadata": {
    "slideshow": {
     "slide_type": "fragment"
    }
   },
   "outputs": [],
   "source": [
    "# A simple if-else statement checking if a number is bigger or smaller than 3.\n",
    "a = 2\n",
    "if a < 3:\n",
    "    print(\"The number is less than 3\")\n",
    "else:\n",
    "    print(\"This number is larger or equal to 3\")\n",
    "    "
   ]
  },
  {
   "cell_type": "code",
   "execution_count": null,
   "metadata": {
    "slideshow": {
     "slide_type": "subslide"
    }
   },
   "outputs": [],
   "source": [
    "# String comparision\n",
    "string_one = \"Optimization\"\n",
    "string_two = \"optimization\"\n",
    "\n",
    "# Check if the two string, string_one and string_two, are inequal\n"
   ]
  },
  {
   "cell_type": "code",
   "execution_count": null,
   "metadata": {
    "slideshow": {
     "slide_type": "fragment"
    }
   },
   "outputs": [],
   "source": [
    "# Check if a number is in a list\n",
    "my_list = [1,2,3,4,5]\n",
    "my_number = 6\n",
    "\n",
    "if expression:\n",
    "    # Print \"6 is in [1,2,3,4,5]\"\n",
    "else:\n",
    "    # Print \"6 is not in [1,2,3,4,5]\"\n",
    "    "
   ]
  },
  {
   "cell_type": "markdown",
   "metadata": {
    "slideshow": {
     "slide_type": "subslide"
    }
   },
   "source": [
    "What if we have a test with more than one possible outcome? \n",
    "```python\n",
    "if expression_1:\n",
    "    statement(s)\n",
    "elif expression_2:\n",
    "    statement(s)\n",
    "else:\n",
    "    statement(s)\n",
    "```"
   ]
  },
  {
   "cell_type": "code",
   "execution_count": null,
   "metadata": {
    "slideshow": {
     "slide_type": "fragment"
    }
   },
   "outputs": [],
   "source": [
    "# Test if a number is less than, equal to or greater than 0\n",
    "a = 0\n",
    "if expression_1:\n",
    "    print(\"The number is less than zero!\")\n",
    "elif expression_2:\n",
    "    print(\"The number is equal to zero!\")\n",
    "else:\n",
    "    print(\"The number is greater than zero!\")\n",
    "    "
   ]
  },
  {
   "cell_type": "markdown",
   "metadata": {
    "slideshow": {
     "slide_type": "subslide"
    }
   },
   "source": [
    "### User Input\n",
    "So far we have looked at programs that work without any interaction from the user. Adding user input is very simple in Python, using the *input* function."
   ]
  },
  {
   "cell_type": "code",
   "execution_count": null,
   "metadata": {
    "slideshow": {
     "slide_type": "fragment"
    }
   },
   "outputs": [],
   "source": [
    "# Prompt the user for her/his name, store it in a variable, and print it to the screen\n",
    "my_name = None\n",
    "print(\"My name is \" + my_name)\n"
   ]
  },
  {
   "cell_type": "markdown",
   "metadata": {
    "slideshow": {
     "slide_type": "fragment"
    }
   },
   "source": [
    "All input is by default handled as a String. To convert it to a number, for instance an Integer, we use the *int* function."
   ]
  },
  {
   "cell_type": "code",
   "execution_count": null,
   "metadata": {
    "slideshow": {
     "slide_type": "fragment"
    }
   },
   "outputs": [],
   "source": [
    "# Prompt the user for her/his age, store it in a variable, and print it to the screen\n",
    "my_age = None\n",
    "print(\"My age is\" + str(my_age))\n"
   ]
  },
  {
   "cell_type": "markdown",
   "metadata": {
    "slideshow": {
     "slide_type": "slide"
    }
   },
   "source": [
    "### Problem 3: Train Ticket Price Calculator\n",
    "In the following problem you will create a train ticket price calculator. The problem is split into 3 sub-problems.\n",
    "\n",
    "#### Problem 3.1: Price based on time until travel\n",
    "Your program should have the following functionality:\n",
    "1. Ask the user for the number of days until travel\n",
    "2. Return the price for the ticket to the user based on the number of days entered\n",
    "\n",
    "The pricing rules are as follows: If it is more than 10 days until travel the price is 200 NOK (mini-price), otherwise the price is 450 NOK.  \n",
    "Example of code running:\n",
    "\n",
    "*How many days until travel? <span style=\"color:blue\">11</span>.  \n",
    "The ticket will cost 200 NOK.*\n",
    "\n",
    "Useful functions include: *input*, *int*, *str*, *print*  "
   ]
  },
  {
   "cell_type": "code",
   "execution_count": null,
   "metadata": {
    "slideshow": {
     "slide_type": "subslide"
    }
   },
   "outputs": [],
   "source": [
    "# Solution example to problem 3.1\n"
   ]
  },
  {
   "cell_type": "markdown",
   "metadata": {
    "slideshow": {
     "slide_type": "subslide"
    }
   },
   "source": [
    "#### Problem 3.2: Price based on time until travel and age\n",
    "Your program should have the same functionality as in problem 3.1, but should also include:\n",
    "1. Ask the user for age\n",
    "2. If the user is younger than 16 they are given a 50% discount, and if they are older than 59 they are given a 25% discount\n",
    "\n",
    "Example of code running:\n",
    "\n",
    "*How many days until travel? <span style=\"color:blue\">3</span>  \n",
    "How old are you? <span style=\"color:blue\">15</span>  \n",
    "The ticket will cost 225 NOK.*"
   ]
  },
  {
   "cell_type": "code",
   "execution_count": null,
   "metadata": {
    "slideshow": {
     "slide_type": "subslide"
    }
   },
   "outputs": [],
   "source": [
    "# Solution example to problem 3.2\n",
    "days_until_travel = int(input(\"How many days until travel? \"))\n",
    "\n",
    "if days_until_travel > 10:\n",
    "    price = 200\n",
    "    \n",
    "else:\n",
    "    price = 450\n",
    "\n",
    "print(\"The ticket will cost \" + str(price) + \"NOK\")\n"
   ]
  },
  {
   "cell_type": "markdown",
   "metadata": {
    "slideshow": {
     "slide_type": "subslide"
    }
   },
   "source": [
    "#### Problem 3.3: Refundable ticket?\n",
    "In some cases the user might want to pay full price, instead of mini-price, since only full price tickets are refundable.\n",
    "Your program should have the same functionality as in problem 3.2, but should also include:\n",
    "1. Users eligible for mini-price should be asked if they really want minipris\n",
    "2. Mini-price can never be discounted, even if the user is eligible for a discount\n",
    "3. OPTIONAL: Make the program ask for as little information as possible. If the user want mini-price and is eligible for it (more than 10 days until travel), she/he should not be asked about age.\n",
    "\n",
    "Example of code running:  \n",
    "*How many days until travel? <span style=\"color:blue\">11</span>.\n",
    "You are eligible for minipris. Mini-price is not refundable. Do you want mini-price (Yes/No)? <span style=\"color:blue\">No</span>.\n",
    "How old are you? <span style=\"color:blue\">65</span>\n",
    "The ticket will cost 337.50 NOK.*"
   ]
  },
  {
   "cell_type": "code",
   "execution_count": null,
   "metadata": {
    "slideshow": {
     "slide_type": "subslide"
    }
   },
   "outputs": [],
   "source": [
    "# Solution example to problem 3.3\n",
    "days_until_travel = int(input(\"How many days until travel? \"))\n",
    "user_age = int(input(\"How old are you? \"))\n",
    "\n",
    "if user_age < 16:\n",
    "    discount = 0.5\n",
    "elif user_age > 59:\n",
    "    discount = 0.25\n",
    "else:\n",
    "    discount = 0\n",
    "\n",
    "if days_until_travel > 10:\n",
    "    price = 200 * (1 - discount)\n",
    "    \n",
    "else:\n",
    "    price = 450 * (1 - discount)\n",
    "\n",
    "print(\"The ticket will cost \" + str(price) + \"NOK\")\n"
   ]
  },
  {
   "cell_type": "markdown",
   "metadata": {
    "slideshow": {
     "slide_type": "slide"
    }
   },
   "source": [
    "### Loops\n",
    "One of the main reason to utilize programming is the computers ability to do repetitive tasks very fast. In Python we have two types of loops:\n",
    "1. While-loop: Do something until a condition becomes true\n",
    "2. For-loop: Do something for a given number of times\n",
    "The syntax for a Python while-loop is as follows:\n",
    "```python\n",
    "while condition:\n",
    "    statement(s)\n",
    "```"
   ]
  },
  {
   "cell_type": "code",
   "execution_count": null,
   "metadata": {
    "slideshow": {
     "slide_type": "fragment"
    }
   },
   "outputs": [],
   "source": [
    "# While loop counting from 0 to 10\n",
    "number = 1\n",
    "while expression: # Check if number is less than or equal to 10\n",
    "    print(number)\n",
    "    number = None # Increment number with 1\n",
    "    "
   ]
  },
  {
   "cell_type": "markdown",
   "metadata": {
    "slideshow": {
     "slide_type": "subslide"
    }
   },
   "source": [
    "### Problem 4: While-loops and Geometric Sequences\n",
    "A geometric sequence is defined as follows:\n",
    "$$\\sum_{i=0}^n r^i = r^0 + r^1 + r^2 + \\dots + r^n \\, \\, \\, r \\in (-1,1)$$\n",
    "This problem is divided into 3 sub-problems.\n",
    "\n",
    "#### Problem 4.1\n",
    "Write a program that calculates the sum of a geometric sequence by using a while loop. The variables *r* and _n_ should be read from the user.\n"
   ]
  },
  {
   "cell_type": "code",
   "execution_count": null,
   "metadata": {
    "slideshow": {
     "slide_type": "subslide"
    }
   },
   "outputs": [],
   "source": [
    "# Solution to problem 4.1\n"
   ]
  },
  {
   "cell_type": "markdown",
   "metadata": {
    "slideshow": {
     "slide_type": "subslide"
    }
   },
   "source": [
    "#### Problem 4.2\n",
    "The program in problem 4.1 reads the value *n* from the user. In this problem we will work without an upper limit _n_.\n",
    "The sum of an geometric sequence tends to\n",
    "$$\\sum_{i=0}^\\infty r^i = \\frac{1 - r^{n+1}}{1-r}$$  \n",
    "\n",
    "when _n_ goes to infinity.  \n",
    "Rewrite the program from 4.1 such that the loop is finished when the difference between the sum and the limit is less than 0.001.  \n",
    "\n",
    "HINT: A while-loop in Python can be quit before the condition is false. Google how to do this.  \n",
    "Test your solution with _r_ = 0.5."
   ]
  },
  {
   "cell_type": "code",
   "execution_count": null,
   "metadata": {
    "slideshow": {
     "slide_type": "subslide"
    }
   },
   "outputs": [],
   "source": [
    "# Solution to problem 4.2\n"
   ]
  },
  {
   "cell_type": "markdown",
   "metadata": {
    "slideshow": {
     "slide_type": "subslide"
    }
   },
   "source": [
    "#### Problem 4.3\n",
    "Rewrite the program from 4.2 to print how many iterations the while-loop were executed before the difference between the sum and the limit were less than 0.001.\n",
    "\n",
    "OPTIONAL: Print the real difference between the sum and the limit after the loop is broken."
   ]
  },
  {
   "cell_type": "code",
   "execution_count": null,
   "metadata": {
    "slideshow": {
     "slide_type": "fragment"
    }
   },
   "outputs": [],
   "source": [
    "# Solution to problem 4.3\n"
   ]
  },
  {
   "cell_type": "markdown",
   "metadata": {
    "slideshow": {
     "slide_type": "subslide"
    }
   },
   "source": [
    "The syntax for a for-loop is as follows:\n",
    "```python\n",
    "for variable in condition:\n",
    "    statement(s)\n",
    "```"
   ]
  },
  {
   "cell_type": "code",
   "execution_count": null,
   "metadata": {
    "slideshow": {
     "slide_type": "fragment"
    }
   },
   "outputs": [],
   "source": [
    "# For-loop iterating over all elements in a list\n",
    "cities = [\"Oslo\", \"Bergen\", \"Trondheim\", \"Stavanger\"]\n",
    "\n",
    "for city in cities:\n",
    "    print(city)\n",
    "    "
   ]
  },
  {
   "cell_type": "code",
   "execution_count": null,
   "metadata": {
    "slideshow": {
     "slide_type": "fragment"
    }
   },
   "outputs": [],
   "source": [
    "# For-loop calculating the sum of all numbers in a list\n",
    "my_list = [\"Oslo\", 1, \"Vilnius\", 10, \"Bergen\", 3.5, 4.8, 5.0]\n",
    "result = 0\n",
    "\n",
    "for element in my_list:\n",
    "    # Do something!\n",
    "    \n",
    "print(result)\n"
   ]
  },
  {
   "cell_type": "code",
   "execution_count": null,
   "metadata": {
    "slideshow": {
     "slide_type": "subslide"
    }
   },
   "outputs": [],
   "source": [
    "# The range function can be used to specify the duration of a for-loop\n",
    "for number in range(0,11,2):\n",
    "    print(number)\n",
    "    "
   ]
  },
  {
   "cell_type": "code",
   "execution_count": null,
   "metadata": {
    "slideshow": {
     "slide_type": "fragment"
    }
   },
   "outputs": [],
   "source": [
    "# The range function can also be used to count down\n",
    "for number in range(50,10,-5):\n",
    "    print(number)\n",
    "    "
   ]
  },
  {
   "cell_type": "markdown",
   "metadata": {
    "slideshow": {
     "slide_type": "subslide"
    }
   },
   "source": [
    "### Problem 5: For-loops & Fibonacci\n",
    "The Fibonacci sequence is a sequence of integers. The sequence is defined as:\n",
    "$$f(0) = 0\\\\f(1) = 1\\\\f(n) = f(n-1) + f(n-2)$$\n",
    "Tasks:\n",
    "1. Implement a program which calculates the *n*th Fibonacci number. _n_ should be an input from the user.  \n",
    "2. The program should calculate the sum of all Fibonacci up to and including the *n*th number.\n",
    "3. The list of all the Fibonacci numbers up to the *n*th number should be printed to the screen. \n",
    "\n",
    "Example of code running:  \n",
    "*n: <span style=\"color:blue\">11</span>  \n",
    "The n-th Fibonacci number is 144  \n",
    "The sum of all Fibonacci numbers up to and including the n-th number is 376  \n",
    "The Fibonacci numbers up to and including the n-th number is \\[0, 1, 1, 2, 3, 5, 8, 13, 21, 34, 55, 89, 144\\]*"
   ]
  },
  {
   "cell_type": "code",
   "execution_count": null,
   "metadata": {
    "slideshow": {
     "slide_type": "subslide"
    }
   },
   "outputs": [],
   "source": [
    "# Solution to Problem 5\n"
   ]
  },
  {
   "cell_type": "markdown",
   "metadata": {
    "slideshow": {
     "slide_type": "slide"
    }
   },
   "source": [
    "### Functions\n",
    "We have already seen many functions in use, these include _len_ and _range_. So how can we create our own functions?  \n",
    "The syntax for creating a function in Python is:\n",
    "```python\n",
    "def f(x):\n",
    "    statement(s)\n",
    "```\n",
    "\n",
    "Say we have a program where we want to calculate the following formula multiple times:\n",
    "$$f(x) = 2x^2 - 6x + 4$$\n",
    "In Python this becomes:"
   ]
  },
  {
   "cell_type": "code",
   "execution_count": null,
   "metadata": {
    "slideshow": {
     "slide_type": "fragment"
    }
   },
   "outputs": [],
   "source": [
    "# Implement the above function in Python\n"
   ]
  },
  {
   "cell_type": "markdown",
   "metadata": {
    "slideshow": {
     "slide_type": "subslide"
    }
   },
   "source": [
    "It's good programming practice to divide your code into functions. A function can be named the same way as variables, just make sure that you don't use the name of a already defined function, such as *len*."
   ]
  },
  {
   "cell_type": "markdown",
   "metadata": {
    "slideshow": {
     "slide_type": "fragment"
    }
   },
   "source": [
    "### Problem 6: Functions\n",
    "In this problem you have to program the following 4 functions:\n",
    "1. A function which takes two arguments, x and y, and returns the product of them\n",
    "2. A function which takes one argument, and prints it to the screen\n",
    "3. A function which takes zero arguments and return 42\n",
    "4. A function which takes two arguments. The function shall add 42 to the product of the two numbers and then print the result. \n",
    "\n",
    "HINT: The 4th function should reuse the other 3."
   ]
  },
  {
   "cell_type": "code",
   "execution_count": null,
   "metadata": {
    "slideshow": {
     "slide_type": "subslide"
    }
   },
   "outputs": [],
   "source": [
    "# Solution to problem 6.\n"
   ]
  }
 ],
 "metadata": {
  "celltoolbar": "Slideshow",
  "kernelspec": {
   "display_name": "Python 3",
   "language": "python",
   "name": "python3"
  },
  "language_info": {
   "codemirror_mode": {
    "name": "ipython",
    "version": 3
   },
   "file_extension": ".py",
   "mimetype": "text/x-python",
   "name": "python",
   "nbconvert_exporter": "python",
   "pygments_lexer": "ipython3",
   "version": "3.5.0"
  }
 },
 "nbformat": 4,
 "nbformat_minor": 2
}
