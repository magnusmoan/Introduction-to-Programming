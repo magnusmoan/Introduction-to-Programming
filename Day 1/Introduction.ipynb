{
 "cells": [
  {
   "cell_type": "markdown",
   "metadata": {
    "slideshow": {
     "slide_type": "slide"
    }
   },
   "source": [
    "# Introduction to Programming: Python"
   ]
  },
  {
   "cell_type": "markdown",
   "metadata": {
    "slideshow": {
     "slide_type": "subslide"
    }
   },
   "source": [
    "## Agenda\n",
    "+ Running Python on your own computer\n",
    "+ Basic functionality: Variables, data types, user input, loops and functions\n",
    "+ Advanced functionality: File handling, external packages\n",
    "+ Where to go next"
   ]
  },
  {
   "cell_type": "markdown",
   "metadata": {
    "slideshow": {
     "slide_type": "slide"
    }
   },
   "source": [
    "## Running Python on your own computer\n",
    "Before we start programming we need the necessary tools. In this case this means Python and a text editor. We will work with PyCharm, which is a Python specific editor.\n",
    "### Installing Python (Windows)\n",
    "1. Visit (www.python.org/downloads) and download the newest version. Hint: Click the big yellow button saying \"Download Python 3.9.0\"\n",
    "2. Install the downloaded package. Remember to click yes when asked if you want to add Python to the system path\n",
    "3. Click the windows button on your computer and write \"cmd\". Hit enter! Write \"python\" in the scary black box that opens up. If your screen looks something like the picture below you are all good. If not, let me know!\n",
    "\n",
    "<center><img src=\"python_cmd_img.png\"></center>"
   ]
  },
  {
   "cell_type": "markdown",
   "metadata": {
    "slideshow": {
     "slide_type": "subslide"
    }
   },
   "source": [
    "### Installing PyCharm\n",
    "1. Google \"Pycharm download\". Hit the top link.\n",
    "2. Choose the Community edition by clicking the black button saying \"Download\".\n",
    "3. Let it download, this will take some time, so we will move on before finishing the installation. "
   ]
  },
  {
   "cell_type": "markdown",
   "metadata": {
    "slideshow": {
     "slide_type": "slide"
    }
   },
   "source": [
    "## Hello, world!\n",
    "No true programming course starts without a \"Hello, world!\" demonstration."
   ]
  },
  {
   "cell_type": "code",
   "execution_count": null,
   "metadata": {},
   "outputs": [],
   "source": [
    "print(\"Hello World!\")"
   ]
  },
  {
   "cell_type": "markdown",
   "metadata": {
    "slideshow": {
     "slide_type": "slide"
    }
   },
   "source": [
    "## Variables\n",
    "\n",
    "A variable is a place to store a value. Variables are mutable, meaning that they can change after they have been created. When naming variables in Python, two rules must be followed:\n",
    "1. The name must start with either a letter (not æøå) or a underscore.\n",
    "2. The rest of the name may only contain numbers, letters and underscores.\n",
    "\n",
    "Easily understandable variable names are highly recommended!"
   ]
  },
  {
   "cell_type": "code",
   "execution_count": 1,
   "metadata": {
    "slideshow": {
     "slide_type": "subslide"
    }
   },
   "outputs": [
    {
     "name": "stdout",
     "output_type": "stream",
     "text": [
      "4\n"
     ]
    }
   ],
   "source": [
    "# Variable assignment\n",
    "a = 1\n",
    "b = 3\n",
    "c = a + b\n",
    "print(c)"
   ]
  },
  {
   "cell_type": "code",
   "execution_count": 2,
   "metadata": {
    "slideshow": {
     "slide_type": "fragment"
    }
   },
   "outputs": [
    {
     "name": "stdout",
     "output_type": "stream",
     "text": [
      "4\n",
      "2\n"
     ]
    }
   ],
   "source": [
    "# Variable values may change\n",
    "a = 1\n",
    "b = 3\n",
    "c = a + b\n",
    "a = 2 # What if a = c? What happens to c?\n",
    "print(c)\n",
    "print(a)"
   ]
  },
  {
   "cell_type": "code",
   "execution_count": 3,
   "metadata": {
    "slideshow": {
     "slide_type": "fragment"
    }
   },
   "outputs": [
    {
     "name": "stdout",
     "output_type": "stream",
     "text": [
      "3\n"
     ]
    }
   ],
   "source": [
    "# Increase value of an variable\n",
    "a = 1\n",
    "a += 2 # Short-hand: +=\n",
    "print(a)"
   ]
  },
  {
   "cell_type": "markdown",
   "metadata": {
    "slideshow": {
     "slide_type": "slide"
    }
   },
   "source": [
    "## Data types\n",
    "\n",
    "All data in a program must be represented as a data type. Examples of information you might want to represent in a data program include:\n",
    "+ Numbers\n",
    "+ Text\n",
    "+ Lists\n",
    "+ Files\n",
    "+ and many many more\n",
    "\n",
    "\n",
    "\n"
   ]
  },
  {
   "cell_type": "markdown",
   "metadata": {
    "slideshow": {
     "slide_type": "subslide"
    }
   },
   "source": [
    "In programming we are given a set of different data types to represent this information. The most common data types include:\n",
    "+ Integers: Whole numbers\n",
    "+ Floats: Decimal numbers\n",
    "+ Strings: Text\n",
    "+ Lists: Changeable list\n",
    "+ Dictionaries: Stores related information\n",
    "+ Booleans: True or False / Yes or No / 1 or 0"
   ]
  },
  {
   "cell_type": "markdown",
   "metadata": {
    "slideshow": {
     "slide_type": "subslide"
    }
   },
   "source": [
    "### Integers\n",
    "Integers are positive and negative whole numbers, i.e., no decimal numbers.  "
   ]
  },
  {
   "cell_type": "code",
   "execution_count": 4,
   "metadata": {
    "slideshow": {
     "slide_type": "fragment"
    }
   },
   "outputs": [
    {
     "data": {
      "text/plain": [
       "7"
      ]
     },
     "execution_count": 4,
     "metadata": {},
     "output_type": "execute_result"
    }
   ],
   "source": [
    "# Addition:\n",
    "4 + 3"
   ]
  },
  {
   "cell_type": "code",
   "execution_count": 5,
   "metadata": {
    "slideshow": {
     "slide_type": "fragment"
    }
   },
   "outputs": [
    {
     "data": {
      "text/plain": [
       "1"
      ]
     },
     "execution_count": 5,
     "metadata": {},
     "output_type": "execute_result"
    }
   ],
   "source": [
    "# Subtraction:\n",
    "4 - 3"
   ]
  },
  {
   "cell_type": "code",
   "execution_count": 11,
   "metadata": {
    "slideshow": {
     "slide_type": "fragment"
    }
   },
   "outputs": [
    {
     "data": {
      "text/plain": [
       "2"
      ]
     },
     "execution_count": 11,
     "metadata": {},
     "output_type": "execute_result"
    }
   ],
   "source": [
    "# Multiplication:\n",
    "6 // 3"
   ]
  },
  {
   "cell_type": "code",
   "execution_count": 7,
   "metadata": {
    "slideshow": {
     "slide_type": "fragment"
    }
   },
   "outputs": [
    {
     "data": {
      "text/plain": [
       "1.3333333333333333"
      ]
     },
     "execution_count": 7,
     "metadata": {},
     "output_type": "execute_result"
    }
   ],
   "source": [
    "# Division:\n",
    "4 / 3"
   ]
  },
  {
   "cell_type": "code",
   "execution_count": 8,
   "metadata": {
    "scrolled": false,
    "slideshow": {
     "slide_type": "fragment"
    }
   },
   "outputs": [
    {
     "data": {
      "text/plain": [
       "1"
      ]
     },
     "execution_count": 8,
     "metadata": {},
     "output_type": "execute_result"
    }
   ],
   "source": [
    "# Integer division\n",
    "4 // 3"
   ]
  },
  {
   "cell_type": "code",
   "execution_count": null,
   "metadata": {
    "slideshow": {
     "slide_type": "fragment"
    }
   },
   "outputs": [],
   "source": [
    "# Raising a number\n",
    "(-4)**2 # What about negative numbers?"
   ]
  },
  {
   "cell_type": "markdown",
   "metadata": {
    "slideshow": {
     "slide_type": "subslide"
    }
   },
   "source": [
    "### Floats\n",
    "Floats are decimal numbers. Examples: 0.1, 3.14, -2.09. All the same operations we showed for integers work for floats, even integer division. \n",
    "\n"
   ]
  },
  {
   "cell_type": "code",
   "execution_count": 16,
   "metadata": {
    "slideshow": {
     "slide_type": "subslide"
    }
   },
   "outputs": [
    {
     "name": "stdout",
     "output_type": "stream",
     "text": [
      "3 3.0\n"
     ]
    }
   ],
   "source": [
    "# A float can be converted to a int\n",
    "a_float = 3.8\n",
    "an_int = int(a_float)\n",
    "a_float = float(an_int)\n",
    "print(an_int, a_float)\n"
   ]
  },
  {
   "cell_type": "markdown",
   "metadata": {
    "slideshow": {
     "slide_type": "subslide"
    }
   },
   "source": [
    "### Strings\n",
    "Strings represent text. A string is created by enclosing text using either \" or '. There are no specific rule for when to use \" or ', but be consistent! \n",
    "Examples of strings: \n",
    "+ \"Visma\"\n",
    "+ \"This is a sentence\"\n",
    "+ 'a'\n",
    "\n",
    "There exists a huge amount of operations applicaple to strings. A good reference can be found [here](https://docs.python.org/2/library/string.html)."
   ]
  },
  {
   "cell_type": "code",
   "execution_count": null,
   "metadata": {
    "slideshow": {
     "slide_type": "subslide"
    }
   },
   "outputs": [],
   "source": [
    "# Merging two strings\n",
    "start = \"This is\"\n",
    "end = \"a string.\"\n",
    "space = \" \"\n",
    "whole = start + space + end # Merge two strings using the + operator\n",
    "print(whole)\n"
   ]
  },
  {
   "cell_type": "code",
   "execution_count": null,
   "metadata": {
    "slideshow": {
     "slide_type": "fragment"
    }
   },
   "outputs": [],
   "source": [
    "# Merging without using variables\n",
    "whole = \"This is\" + \" \" + \"a string.\"\n",
    "print(whole)\n"
   ]
  },
  {
   "cell_type": "code",
   "execution_count": null,
   "metadata": {
    "slideshow": {
     "slide_type": "fragment"
    }
   },
   "outputs": [],
   "source": [
    "# Find the length of a string (number of characters)\n",
    "a = \"This is a sentence.\"\n",
    "b = len(a)\n",
    "print(b)\n"
   ]
  },
  {
   "cell_type": "code",
   "execution_count": null,
   "metadata": {
    "slideshow": {
     "slide_type": "subslide"
    }
   },
   "outputs": [],
   "source": [
    "# Find the nth character in a string\n",
    "a = \"This is a sentence\"\n",
    "b = a[3]\n",
    "print(b)\n"
   ]
  },
  {
   "cell_type": "code",
   "execution_count": null,
   "metadata": {
    "slideshow": {
     "slide_type": "fragment"
    }
   },
   "outputs": [],
   "source": [
    "# Merging of strings with other data types\n",
    "string_start = \"I am \"\n",
    "age = 26\n",
    "string_end = \" years old\"\n",
    "result = string_start + str(age) + string_end\n",
    "print(result)\n"
   ]
  },
  {
   "cell_type": "code",
   "execution_count": null,
   "metadata": {
    "slideshow": {
     "slide_type": "fragment"
    }
   },
   "outputs": [],
   "source": [
    "# Finding a subsequence/substring within a string\n",
    "my_string = \"This is a string\"\n",
    "substring = my_string[0:4]\n",
    "print(substring)\n"
   ]
  },
  {
   "cell_type": "code",
   "execution_count": null,
   "metadata": {
    "slideshow": {
     "slide_type": "fragment"
    }
   },
   "outputs": [],
   "source": [
    "# f-string, the new kid on the block!\n",
    "a = 20\n",
    "b = f\"I am {a} years old!\"\n",
    "print(b)"
   ]
  },
  {
   "cell_type": "markdown",
   "metadata": {
    "slideshow": {
     "slide_type": "subslide"
    }
   },
   "source": [
    "### Problem 1: Printing and mathematical operations\n",
    "In the following problem you will be asked to combine knowledge about mathematical operators. Remember that everything within a pair of \" or ' are considered to be a string, even though they are mathematical expression. An example of this is \"1+2\". \n",
    "\n",
    "When grouping longer expressions in Python we use () to group sub-expressions."
   ]
  },
  {
   "cell_type": "code",
   "execution_count": null,
   "metadata": {
    "slideshow": {
     "slide_type": "fragment"
    }
   },
   "outputs": [],
   "source": [
    "a = 3 - 2 * 4\n",
    "b = (3 - 2) * 4\n",
    "print(a, b)\n"
   ]
  },
  {
   "cell_type": "markdown",
   "metadata": {
    "slideshow": {
     "slide_type": "fragment"
    }
   },
   "source": [
    "Finally: A print statement can take an arbitrary number of arguments separated by commas, each getting printed to the screen."
   ]
  },
  {
   "cell_type": "code",
   "execution_count": null,
   "metadata": {
    "slideshow": {
     "slide_type": "fragment"
    }
   },
   "outputs": [],
   "source": [
    "a = 3\n",
    "b = 4\n",
    "print(a, b)\n"
   ]
  },
  {
   "cell_type": "markdown",
   "metadata": {
    "slideshow": {
     "slide_type": "subslide"
    }
   },
   "source": [
    "Useful operators:\n",
    "+ Addition: +\n",
    "+ Subtraction: -\n",
    "+ Multiplication: *\n",
    "+ Division: /\n",
    "+ Integer division: //\n",
    "+ Raising a number: **"
   ]
  },
  {
   "cell_type": "code",
   "execution_count": null,
   "metadata": {
    "scrolled": true,
    "slideshow": {
     "slide_type": "subslide"
    }
   },
   "outputs": [],
   "source": [
    "# Replace None with the correct mathematical expression\n",
    "print('1+2(−3) =', 1+2*(-3))\n",
    "print('[(3+5·2) + 1] : 2 =', ((3+5*2) + 1)/2)\n",
    "print('-3^2+5*3-7 =', -3**2+5*3-7)\n",
    "\n",
    "# 1.\n",
    "print('5:2-4 =', 5/2-4)\n",
    "\n",
    "# 2.\n",
    "print('5·12+6-1 =', 5*12+6-1)\n",
    "\n",
    "# 3.\n",
    "print('3(5+2) =', 3*(5+2))\n",
    "\n",
    "# 4.\n",
    "print('4[(5+3):2 +7] =', 4*((5+3)/2+7))\n",
    "\n",
    "# 5.\n",
    "answer = (-4)**(-3)+5*(3-7/2)\n",
    "answer_rounded = round(answer, 2)\n",
    "print('(−4)^(-3)+5·(3−7:2) =', answer_rounded)\n"
   ]
  },
  {
   "cell_type": "markdown",
   "metadata": {
    "slideshow": {
     "slide_type": "subslide"
    }
   },
   "source": [
    "### Lists\n",
    "A list is an ordered collection."
   ]
  },
  {
   "cell_type": "code",
   "execution_count": 1,
   "metadata": {
    "slideshow": {
     "slide_type": "fragment"
    }
   },
   "outputs": [
    {
     "name": "stdout",
     "output_type": "stream",
     "text": [
      "[1, 2, 3, [4, 5]]\n"
     ]
    }
   ],
   "source": [
    "# In Python lists are initialized using square brackets, [].\n",
    "sub_list = [4,5]\n",
    "my_list = [1,2,3, sub_list]\n",
    "print(my_list)\n"
   ]
  },
  {
   "cell_type": "code",
   "execution_count": 2,
   "metadata": {
    "slideshow": {
     "slide_type": "fragment"
    }
   },
   "outputs": [
    {
     "name": "stdout",
     "output_type": "stream",
     "text": [
      "[1, 10]\n"
     ]
    }
   ],
   "source": [
    "# It is also possible to initialized empty lists and add elements to it using the append function\n",
    "my_list = []\n",
    "my_list.append(1)\n",
    "my_list.append(10)\n",
    "\n",
    "print(my_list)\n"
   ]
  },
  {
   "cell_type": "code",
   "execution_count": 3,
   "metadata": {
    "slideshow": {
     "slide_type": "subslide"
    }
   },
   "outputs": [
    {
     "name": "stdout",
     "output_type": "stream",
     "text": [
      "[1, 2, 3]\n"
     ]
    }
   ],
   "source": [
    "# A list can contain variables\n",
    "a = 1\n",
    "b = 2\n",
    "c = 3\n",
    "my_list = [a,b,c]\n",
    "print(my_list)\n"
   ]
  },
  {
   "cell_type": "code",
   "execution_count": 4,
   "metadata": {
    "slideshow": {
     "slide_type": "fragment"
    }
   },
   "outputs": [
    {
     "name": "stdout",
     "output_type": "stream",
     "text": [
      "[1.2, 1, 'hello']\n"
     ]
    }
   ],
   "source": [
    "# A list can contain different datatypes\n",
    "a = 1.2\n",
    "b = 1\n",
    "c = \"hello\"\n",
    "my_list = [a,b,c]\n",
    "print(my_list)\n"
   ]
  },
  {
   "cell_type": "code",
   "execution_count": null,
   "metadata": {
    "scrolled": true,
    "slideshow": {
     "slide_type": "fragment"
    }
   },
   "outputs": [],
   "source": [
    "# The length of a list can be found by using the len function\n",
    "my_list = [1,2,3]\n",
    "print(len(my_list))\n"
   ]
  },
  {
   "cell_type": "code",
   "execution_count": 5,
   "metadata": {
    "slideshow": {
     "slide_type": "subslide"
    }
   },
   "outputs": [
    {
     "name": "stdout",
     "output_type": "stream",
     "text": [
      "['Denmark', 'Finland', 'Norway', 'Sweden']\n"
     ]
    }
   ],
   "source": [
    "# Sorting a list of numbers (integers or floats) using sorted\n",
    "my_list = [\"Norway\", \"Denmark\", \"Finland\", \"Sweden\"]\n",
    "\n",
    "my_list_sorted = sorted(my_list) # Use the function sort to sort the list in ascending and descending order using the reverse key\n",
    "print(my_list_sorted)\n"
   ]
  },
  {
   "cell_type": "code",
   "execution_count": 6,
   "metadata": {
    "slideshow": {
     "slide_type": "fragment"
    }
   },
   "outputs": [
    {
     "name": "stdout",
     "output_type": "stream",
     "text": [
      "First: 1\n",
      "Last: 5\n",
      "Middle: 3\n",
      "\n"
     ]
    }
   ],
   "source": [
    "# Indexing in a list\n",
    "my_list = [1,2,3,4,5]\n",
    "first = my_list[0]\n",
    "last = my_list[-1]\n",
    "middle = my_list[len(my_list)//2] # Get the middle element of the list using len function and integer division\n",
    "print(f\"First: {first}\\nLast: {last}\\nMiddle: {middle}\\n\")\n"
   ]
  },
  {
   "cell_type": "code",
   "execution_count": null,
   "metadata": {
    "slideshow": {
     "slide_type": "fragment"
    }
   },
   "outputs": [],
   "source": [
    "# Slicing a list\n",
    "my_list = [1,2,3,4,5,6]\n",
    "first_half = my_list[0:len(my_list)//2] # Use list slicing to get the first half of the list\n",
    "print(f\"First half: {first_half}\")\n"
   ]
  },
  {
   "cell_type": "markdown",
   "metadata": {
    "slideshow": {
     "slide_type": "slide"
    }
   },
   "source": [
    "### Problem 2: Lists\n",
    " 1. Create a list containing the names of all the people in this room\n",
    " 2. Sort the list in ascending order.\n",
    " 3. Print out the name of the last person in the list\n",
    " 4. Print the first half of the list\n",
    " \n"
   ]
  },
  {
   "cell_type": "markdown",
   "metadata": {
    "slideshow": {
     "slide_type": "fragment"
    }
   },
   "source": [
    " Useful functionality: \n",
    " + _sort_ can be used to sort a list\n",
    " + Finding a specific entry in a list can be done by using square brackets\n",
    " + _len_ can be used to find the number of elements in a list"
   ]
  },
  {
   "cell_type": "code",
   "execution_count": null,
   "metadata": {
    "slideshow": {
     "slide_type": "subslide"
    }
   },
   "outputs": [],
   "source": [
    "# 1. List names\n",
    "my_list = [\"Aksel\", \"Andreas\", \"Moa\", \"Jonathan\", \"Lilja\", \"Heidi\", \"Niclas\", \"Mirva\"]\n",
    "print(my_list)\n"
   ]
  },
  {
   "cell_type": "code",
   "execution_count": null,
   "metadata": {
    "slideshow": {
     "slide_type": "fragment"
    }
   },
   "outputs": [],
   "source": [
    "# 2. Sort the list\n",
    "my_list.sort()\n",
    "print(my_list)\n",
    "my_list.sort(reverse=True) # Descending order\n",
    "print(my_list)\n"
   ]
  },
  {
   "cell_type": "code",
   "execution_count": null,
   "metadata": {
    "slideshow": {
     "slide_type": "fragment"
    }
   },
   "outputs": [],
   "source": [
    "# 3. Print last name in list\n",
    "my_list = [\"Aksel\", \"Andreas\", \"Moa\", \"Jonathan\", \"Lilja\", \"Heidi\", \"Niclas\", \"Mirva\"]\n",
    "print(my_list[-1])\n"
   ]
  },
  {
   "cell_type": "code",
   "execution_count": null,
   "metadata": {
    "slideshow": {
     "slide_type": "fragment"
    }
   },
   "outputs": [],
   "source": [
    "# 4. Print first half of the list\n",
    "my_list = [\"Aksel\", \"Andreas\", \"Moa\", \"Jonathan\", \"Lilja\", \"Heidi\", \"Niclas\", \"Mirva\"]\n",
    "print(my_list[:len(my_list)//2])\n"
   ]
  },
  {
   "cell_type": "markdown",
   "metadata": {
    "slideshow": {
     "slide_type": "subslide"
    }
   },
   "source": [
    "### Dictionaries\n",
    "A dictionary is an unordered collection of related items. An example could be a collection representing the different countries in Visma and their employees:\n",
    "+ Norway: Andreas, Aksel\n",
    "+ Sweden: Moa, Niclas\n",
    "+ Finland: Heidi, Jonathan, Mirva\n",
    "+ Denmark: Lilja\n",
    "\n",
    "In this case we say that the countries are the *keys* in the dictionary, and the names are the *values*. The keys and values of the dictionary can be any Python data type."
   ]
  },
  {
   "cell_type": "code",
   "execution_count": null,
   "metadata": {
    "slideshow": {
     "slide_type": "subslide"
    }
   },
   "outputs": [],
   "source": [
    "# Create a dictionary representing the management trainees and the optimization team\n",
    "norway = [\"Andreas\", \"Aksel\"]\n",
    "sweden = [\"Moa\", \"Niclas\"]\n",
    "finland = [\"Heidi\", \"Jonathan\", \"Mirva\"]\n",
    "\n",
    "country_dict = {\"Norway\": norway, \"Sweden\": sweden, \"Finland\": finland}\n",
    "print(country_dict[\"Sweden\"])\n"
   ]
  },
  {
   "cell_type": "code",
   "execution_count": null,
   "metadata": {
    "slideshow": {
     "slide_type": "fragment"
    }
   },
   "outputs": [],
   "source": [
    "# Accessing all keys in a dictionary as a list\n",
    "countries = list(country_dict.keys())\n",
    "print(countries)\n"
   ]
  },
  {
   "cell_type": "code",
   "execution_count": null,
   "metadata": {
    "slideshow": {
     "slide_type": "fragment"
    }
   },
   "outputs": [],
   "source": [
    "# Adding a new relation to the dictionary\n",
    "denmark = [\"Lilja\"]\n",
    "# Insert Denmark using the key \"denmark\"\n",
    "country_dict[\"Denmark\"] = denmark\n",
    "print(country_dict)\n"
   ]
  },
  {
   "cell_type": "code",
   "execution_count": null,
   "metadata": {
    "slideshow": {
     "slide_type": "fragment"
    }
   },
   "outputs": [],
   "source": [
    "# Removing a relation from the dictionary\n",
    "# Delete the Norway employees :(\n",
    "del country_dict[\"Norway\"]\n",
    "print(country_dict)\n"
   ]
  },
  {
   "cell_type": "code",
   "execution_count": null,
   "metadata": {
    "slideshow": {
     "slide_type": "fragment"
    }
   },
   "outputs": [],
   "source": [
    "# Accessing an item from the dictionary\n",
    "sweden = country_dict[\"Sweden\"]\n",
    "print(sweden)\n"
   ]
  },
  {
   "cell_type": "markdown",
   "metadata": {
    "slideshow": {
     "slide_type": "slide"
    }
   },
   "source": [
    "## Booleans, Logical Test and Conditions\n",
    "In the world of computers there are in reality only two values, 0 and 1. Everything in a computer is built from these two values. In Python we represent these simplest of building blocks using *booleans*; True or False.\n"
   ]
  },
  {
   "cell_type": "code",
   "execution_count": null,
   "metadata": {
    "slideshow": {
     "slide_type": "fragment"
    }
   },
   "outputs": [],
   "source": [
    "# True or False are like any other value and can be assigned to a variable\n",
    "a = True\n",
    "b = False\n"
   ]
  },
  {
   "cell_type": "markdown",
   "metadata": {
    "slideshow": {
     "slide_type": "fragment"
    }
   },
   "source": [
    "Booleans are usually the result of a *logical test*. In Python we have 6 comparison operators:\n",
    "+ Equality (`==`)\n",
    "+ Inequality (`!=`)\n",
    "+ Greater (`>`)\n",
    "+ Less (`>`)\n",
    "+ Greater or equal (`>=`)\n",
    "+ Less or equal (`<=`)"
   ]
  },
  {
   "cell_type": "code",
   "execution_count": null,
   "metadata": {
    "slideshow": {
     "slide_type": "subslide"
    }
   },
   "outputs": [],
   "source": [
    "# Test if two numbers are equal, and store the resulting boolean in a variable\n",
    "a = 10\n",
    "b = 1\n",
    "result = (a == b)\n",
    "print(result)\n"
   ]
  },
  {
   "cell_type": "markdown",
   "metadata": {
    "slideshow": {
     "slide_type": "fragment"
    }
   },
   "source": [
    "Booleans are used when testing *conditions*. A condition can be framed as a yes or no question:\n",
    "+ If yes, then do something\n",
    "+ If no, do something else\n",
    "\n",
    "In Python this is represented using an *if-else statement*. The general syntax of an if-else statement is as follow:\n",
    "```python\n",
    "if expression:\n",
    "    statement(s)\n",
    "else:\n",
    "    statement(s)\n",
    "```"
   ]
  },
  {
   "cell_type": "code",
   "execution_count": null,
   "metadata": {
    "slideshow": {
     "slide_type": "fragment"
    }
   },
   "outputs": [],
   "source": [
    "# A simple if-else statement checking if a number is bigger or smaller than 3.\n",
    "a = 2\n",
    "if a < 3:\n",
    "    print(\"The number is less than 3\")\n",
    "else:\n",
    "    print(\"This number is larger or equal to 3\")\n",
    "    "
   ]
  },
  {
   "cell_type": "code",
   "execution_count": null,
   "metadata": {
    "slideshow": {
     "slide_type": "subslide"
    }
   },
   "outputs": [],
   "source": [
    "# String comparision\n",
    "string_one = \"Optimization\"\n",
    "string_two = \"Optimization\"\n",
    "\n",
    "# Check if the two string, string_one and string_two, are equal\n",
    "if string_one == string_two:\n",
    "    print(\"YEAY!\")\n"
   ]
  },
  {
   "cell_type": "code",
   "execution_count": null,
   "metadata": {
    "slideshow": {
     "slide_type": "fragment"
    }
   },
   "outputs": [],
   "source": [
    "# Check if a number is in a list\n",
    "my_list = [1,2,3,4,6]\n",
    "my_number = 6\n",
    "\n",
    "if my_number in my_list:\n",
    "    print(\"My number is in list\")\n",
    "    # Print \"6 is in [1,2,3,4,5]\"\n",
    "else:\n",
    "    # Print \"6 is not in [1,2,3,4,5]\"\n",
    "    print(\"My number not in list\")\n",
    "    "
   ]
  },
  {
   "cell_type": "markdown",
   "metadata": {
    "slideshow": {
     "slide_type": "subslide"
    }
   },
   "source": [
    "What if we have a test with more than one possible outcome? \n",
    "```python\n",
    "if expression_1:\n",
    "    statement(s)\n",
    "elif expression_2:\n",
    "    statement(s)\n",
    "else:\n",
    "    statement(s)\n",
    "```"
   ]
  },
  {
   "cell_type": "code",
   "execution_count": null,
   "metadata": {
    "slideshow": {
     "slide_type": "fragment"
    }
   },
   "outputs": [],
   "source": [
    "# Test if a number is less than, equal to or greater than 0\n",
    "a = 1\n",
    "if a < 0:\n",
    "    print(\"The number is less than zero!\")\n",
    "elif a == 0:\n",
    "    print(\"The number is equal to zero!\")\n",
    "elif a == 100:\n",
    "    print(\"\")\n",
    "else:\n",
    "    print(\"The number is greater than zero!\")\n",
    "    "
   ]
  },
  {
   "cell_type": "markdown",
   "metadata": {
    "slideshow": {
     "slide_type": "subslide"
    }
   },
   "source": [
    "### User Input\n",
    "So far we have looked at programs that work without any interaction from the user. Adding user input is very simple in Python, using the *input* function."
   ]
  },
  {
   "cell_type": "code",
   "execution_count": null,
   "metadata": {
    "slideshow": {
     "slide_type": "fragment"
    }
   },
   "outputs": [],
   "source": [
    "# Prompt the user for her/his name, store it in a variable, and print it to the screen\n",
    "my_name = input(\"What is your name: \")\n",
    "print(\"My name is \" + my_name)\n"
   ]
  },
  {
   "cell_type": "markdown",
   "metadata": {
    "slideshow": {
     "slide_type": "fragment"
    }
   },
   "source": [
    "All input is by default handled as a String. To convert it to a number, for instance an Integer, we use the *int* function."
   ]
  },
  {
   "cell_type": "code",
   "execution_count": null,
   "metadata": {
    "slideshow": {
     "slide_type": "fragment"
    }
   },
   "outputs": [],
   "source": [
    "# Prompt the user for her/his age, store it in a variable, and print it to the screen\n",
    "my_age = int(input(\"What's your age: \"))\n",
    "my_age += 1\n",
    "print(\"Your age is \" + str(my_age))\n"
   ]
  },
  {
   "cell_type": "markdown",
   "metadata": {
    "slideshow": {
     "slide_type": "slide"
    }
   },
   "source": [
    "### Problem 3: Train Ticket Price Calculator\n",
    "In the following problem you will create a train ticket price calculator. The problem is split into 3 sub-problems.\n",
    "\n",
    "#### Problem 3.1: Price based on time until travel\n",
    "Your program should have the following functionality:\n",
    "1. Ask the user for the number of days until travel\n",
    "2. Return the price for the ticket to the user based on the number of days entered\n",
    "\n",
    "The pricing rules are as follows: If it is more than 10 days until travel the price is 200 NOK (mini-price), otherwise the price is 450 NOK.  \n",
    "Example of code running:\n",
    "\n",
    "*How many days until travel? <span style=\"color:blue\">11</span>.  \n",
    "The ticket will cost 200 NOK.*\n",
    "\n",
    "Useful functions include: *input*, *int*, *str*, *print*  "
   ]
  },
  {
   "cell_type": "code",
   "execution_count": 32,
   "metadata": {
    "slideshow": {
     "slide_type": "subslide"
    }
   },
   "outputs": [
    {
     "name": "stdout",
     "output_type": "stream",
     "text": [
      "How many days until travel? 9\n",
      "The ticket will cost 450 NOK\n"
     ]
    }
   ],
   "source": [
    "# Solution example to problem 3.1\n",
    "days_until_travel = int(input(\"How many days until travel? \"))\n",
    "if days_until_travel > 10:\n",
    "    print(\"The ticket will cost 200 NOK\")\n",
    "else:\n",
    "    print(\"The ticket will cost 450 NOK\")"
   ]
  },
  {
   "cell_type": "markdown",
   "metadata": {
    "slideshow": {
     "slide_type": "subslide"
    }
   },
   "source": [
    "#### Problem 3.2: Price based on time until travel and age\n",
    "Your program should have the same functionality as in problem 3.1, but should also include:\n",
    "1. Ask the user for age\n",
    "2. If the user is younger than 16 they are given a 50% discount, and if they are older than 59 they are given a 25% discount\n",
    "\n",
    "Example of code running:\n",
    "\n",
    "*How many days until travel? <span style=\"color:blue\">3</span>  \n",
    "How old are you? <span style=\"color:blue\">15</span>  \n",
    "The ticket will cost 225 NOK.*"
   ]
  },
  {
   "cell_type": "code",
   "execution_count": 33,
   "metadata": {
    "slideshow": {
     "slide_type": "subslide"
    }
   },
   "outputs": [
    {
     "name": "stdout",
     "output_type": "stream",
     "text": [
      "How many days until travel? 11\n",
      "How old are you? 75\n",
      "The ticket will cost 150.0 NOK\n"
     ]
    }
   ],
   "source": [
    "# Solution example to problem 3.2\n",
    "days_until_travel = int(input(\"How many days until travel? \"))\n",
    "age = int(input(\"How old are you? \"))\n",
    "\n",
    "if days_until_travel > 10:\n",
    "    price = 200   \n",
    "else:\n",
    "    price = 450\n",
    "\n",
    "if age < 16:\n",
    "    price *= 0.5\n",
    "elif age > 59:\n",
    "    price *= 0.75\n",
    "    \n",
    "print(\"The ticket will cost \" + str(price) + \" NOK\")\n"
   ]
  },
  {
   "cell_type": "markdown",
   "metadata": {
    "slideshow": {
     "slide_type": "subslide"
    }
   },
   "source": [
    "#### Problem 3.3: Refundable ticket?\n",
    "In some cases the user might want to pay full price, instead of mini-price, since only full price tickets are refundable.\n",
    "Your program should have the same functionality as in problem 3.2, but should also include:\n",
    "1. Users eligible for mini-price should be asked if they really want minipris\n",
    "2. Mini-price can never be discounted, even if the user is eligible for a discount\n",
    "3. OPTIONAL: Make the program ask for as little information as possible. If the user want mini-price and is eligible for it (more than 10 days until travel), she/he should not be asked about age.\n",
    "\n",
    "Example of code running:  \n",
    "*How many days until travel? <span style=\"color:blue\">11</span><br>\n",
    "You are eligible for minipris. Mini-price is not refundable. Do you want mini-price (Yes/No)? <span style=\"color:blue\">No</span><br>\n",
    "How old are you? <span style=\"color:blue\">65</span><br>\n",
    "The ticket will cost 337.50 NOK.*"
   ]
  },
  {
   "cell_type": "code",
   "execution_count": null,
   "metadata": {
    "slideshow": {
     "slide_type": "subslide"
    }
   },
   "outputs": [],
   "source": [
    "# Solution example to problem 3.3\n",
    "mini_price = False\n",
    "discount = 0\n",
    "price = 450\n",
    "\n",
    "days_until_travel = int(input(\"How many days until travel? \"))\n",
    "if days_until_travel > 10:\n",
    "    wants_mini_price = input(\"You are eligible for mini price, however this ticket is not refundable. Do you want mini price (yes/no)? \").lower()\n",
    "    if wants_mini_price == \"yes\":\n",
    "        mini_price = True\n",
    "        price = 200\n",
    "\n",
    "if not mini_price:\n",
    "    user_age = int(input(\"How old are you? \"))\n",
    "    if user_age < 16:\n",
    "        discount = 0.5\n",
    "    elif user_age > 59:\n",
    "        discount = 0.25\n",
    "\n",
    "price = price * (1 - discount)\n",
    "\n",
    "print(\"The ticket will cost \" + str(price) + \" NOK\")\n"
   ]
  },
  {
   "cell_type": "markdown",
   "metadata": {
    "slideshow": {
     "slide_type": "slide"
    }
   },
   "source": [
    "### Loops\n",
    "One of the main reason to utilize programming is the computers ability to do repetitive tasks very fast. In Python we have two types of loops:\n",
    "1. While-loop: Do something until a condition becomes true\n",
    "2. For-loop: Do something for a given number of times\n",
    "<br><br>The syntax for a Python while-loop is as follows:\n",
    "```python\n",
    "while condition:\n",
    "    statement(s)\n",
    "```"
   ]
  },
  {
   "cell_type": "code",
   "execution_count": 36,
   "metadata": {
    "slideshow": {
     "slide_type": "subslide"
    }
   },
   "outputs": [
    {
     "name": "stdout",
     "output_type": "stream",
     "text": [
      "1\n",
      "2\n",
      "3\n",
      "4\n",
      "5\n",
      "6\n",
      "7\n",
      "8\n",
      "9\n",
      "10\n",
      "My sum 55\n"
     ]
    }
   ],
   "source": [
    "# While loop counting from 0 to 10\n",
    "number = 1\n",
    "my_sum = 0\n",
    "while number < 11: # Check if number is less than or equal to 10\n",
    "    # Or you can use (combined with while True):\n",
    "    if number == 11:\n",
    "        break\n",
    "    my_sum = my_sum + number\n",
    "    number += 1 # Increment number with 1\n",
    "\n",
    "print(f\"My sum {my_sum}\")"
   ]
  },
  {
   "cell_type": "markdown",
   "metadata": {
    "slideshow": {
     "slide_type": "subslide"
    }
   },
   "source": [
    "### Problem 4: While-loops and Geometric Sequences\n",
    "A geometric sequence is defined as follows:\n",
    "$$\\sum_{i=0}^n r^i = r^0 + r^1 + r^2 + \\dots + r^n \\, \\, \\, r \\in (-1,1)$$\n",
    "This problem is divided into 3 sub-problems.\n",
    "\n",
    "#### Problem 4.1\n",
    "Write a program that calculates the sum of a geometric sequence by using a while loop. The variables *r* and _n_ should be read from the user.\n"
   ]
  },
  {
   "cell_type": "code",
   "execution_count": 38,
   "metadata": {
    "slideshow": {
     "slide_type": "subslide"
    }
   },
   "outputs": [
    {
     "name": "stdout",
     "output_type": "stream",
     "text": [
      "r: 2\n",
      "n: 10\n",
      "Result: 2047.0\n",
      "Fancy result: 2047.0\n"
     ]
    }
   ],
   "source": [
    "# Solution to problem 4.1\n",
    "r = float(input(\"r: \"))\n",
    "n = float(input(\"n: \"))\n",
    "\n",
    "i = 0\n",
    "geometric_sum = 0\n",
    "\n",
    "while i <= n:\n",
    "    geometric_sum += r**i\n",
    "    i += 1\n",
    "    \n",
    "print(\"Result: \" + str(geometric_sum))\n",
    "\n",
    "# Fancy way of doing the same\n",
    "sequence = [r**i for i in range(int(n)+1)]\n",
    "print(\"Fancy result: \" + str(sum(sequence)))\n"
   ]
  },
  {
   "cell_type": "markdown",
   "metadata": {
    "slideshow": {
     "slide_type": "subslide"
    }
   },
   "source": [
    "#### Problem 4.2\n",
    "The program in problem 4.1 reads the value *n* from the user. In this problem we will work without an upper limit _n_.\n",
    "The sum of an geometric sequence tends to\n",
    "$$\\sum_{i=0}^\\infty r^i = \\frac{1}{1-r}$$  \n",
    "\n",
    "when _n_ goes to infinity.  \n",
    "Rewrite the program from 4.1 such that the loop is finished when the difference between the sum and the limit is less than 0.001.  \n",
    "\n",
    "HINT: A while-loop in Python can be quit before the condition is false. Google how to do this.  \n",
    "Test your solution with _r_ = 0.5."
   ]
  },
  {
   "cell_type": "code",
   "execution_count": null,
   "metadata": {
    "slideshow": {
     "slide_type": "subslide"
    }
   },
   "outputs": [],
   "source": [
    "# Solution to problem 4.2\n",
    "r = float(input(\"r: \"))\n",
    "\n",
    "limit = 1/(1-r)\n",
    "print(\"Limit: \" + str(limit))\n",
    "i = 0\n",
    "geometric_sum = 0\n",
    "\n",
    "while True:\n",
    "    geometric_sum += r**i\n",
    "    if abs(limit - geometric_sum) < 0.001:\n",
    "        break\n",
    "    i += 1\n",
    "    \n",
    "print(\"Actual sum:\", geometric_sum)"
   ]
  },
  {
   "cell_type": "markdown",
   "metadata": {
    "slideshow": {
     "slide_type": "subslide"
    }
   },
   "source": [
    "#### Problem 4.3\n",
    "Rewrite the program from 4.2 to print how many iterations the while-loop were executed before the difference between the sum and the limit were less than 0.001.\n",
    "\n",
    "OPTIONAL: Print the real difference between the sum and the limit after the loop is broken."
   ]
  },
  {
   "cell_type": "code",
   "execution_count": null,
   "metadata": {
    "slideshow": {
     "slide_type": "fragment"
    }
   },
   "outputs": [],
   "source": [
    "# Solution to problem 4.3\n",
    "r = float(input(\"r: \"))\n",
    "\n",
    "limit = 1/(1-r)\n",
    "print(\"Limit: \" + str(limit))\n",
    "i = 0\n",
    "geometric_sum = 0\n",
    "\n",
    "while True:\n",
    "    geometric_sum += r**i\n",
    "    if abs(limit - geometric_sum) < 0.001:\n",
    "        break\n",
    "    i += 1\n",
    "    \n",
    "print(\"Actual sum:\", geometric_sum)\n",
    "print(\"The difference is:\", abs(limit-geometric_sum))\n",
    "print(\"The number of iterations it took to get there:\", i+1)"
   ]
  },
  {
   "cell_type": "markdown",
   "metadata": {
    "slideshow": {
     "slide_type": "subslide"
    }
   },
   "source": [
    "The syntax for a for-loop is as follows:\n",
    "```python\n",
    "for variable in condition:\n",
    "    statement(s)\n",
    "```"
   ]
  },
  {
   "cell_type": "code",
   "execution_count": 40,
   "metadata": {
    "slideshow": {
     "slide_type": "fragment"
    }
   },
   "outputs": [
    {
     "name": "stdout",
     "output_type": "stream",
     "text": [
      "Oslo\n",
      "Bergen\n",
      "Trondheim\n",
      "Stavanger\n"
     ]
    }
   ],
   "source": [
    "# For-loop iterating over all elements in a list\n",
    "cities = [\"Oslo\", \"Bergen\", \"Trondheim\", \"Stavanger\"]\n",
    "\n",
    "for item in cities:\n",
    "    print(item)\n",
    "    "
   ]
  },
  {
   "cell_type": "code",
   "execution_count": null,
   "metadata": {
    "slideshow": {
     "slide_type": "fragment"
    }
   },
   "outputs": [],
   "source": [
    "# For-loop calculating the sum of all numbers in a list\n",
    "my_list = [1, 10, 3.5, 4.8, 5.0]\n",
    "result = sum(my_list)\n",
    "    \n",
    "print(result)\n"
   ]
  },
  {
   "cell_type": "code",
   "execution_count": 48,
   "metadata": {
    "slideshow": {
     "slide_type": "subslide"
    }
   },
   "outputs": [
    {
     "name": "stdout",
     "output_type": "stream",
     "text": [
      "Index:  0 Number:  2\n",
      "Index:  1 Number:  4\n",
      "Index:  2 Number:  6\n"
     ]
    }
   ],
   "source": [
    "# The range function can be used to specify the duration of a for-loop\n",
    "my_list = [2,4,6,8,10,12]\n",
    "\n",
    "for index in range(3):\n",
    "    print(\"Index: \", index, \"Number: \", my_list[index])"
   ]
  },
  {
   "cell_type": "code",
   "execution_count": null,
   "metadata": {
    "slideshow": {
     "slide_type": "fragment"
    }
   },
   "outputs": [],
   "source": [
    "# The range function can also be used to count down\n",
    "for number in range(50,10,-5):\n",
    "    print(number)\n",
    "    "
   ]
  },
  {
   "cell_type": "markdown",
   "metadata": {
    "slideshow": {
     "slide_type": "subslide"
    }
   },
   "source": [
    "### Problem 5: For-loops & Fibonacci\n",
    "The Fibonacci sequence is a sequence of integers. The sequence is defined as:\n",
    "$$f(0) = 0\\\\f(1) = 1\\\\f(n) = f(n-1) + f(n-2)$$\n",
    "Tasks:\n",
    "1. Implement a program which calculates the *n*th Fibonacci number. _n_ should be an input from the user.  \n",
    "2. The program should calculate the sum of all Fibonacci up to and including the *n*th number.\n",
    "3. The list of all the Fibonacci numbers up to the *n*th number should be printed to the screen. \n",
    "\n",
    "Example of code running:  \n",
    "*n: <span style=\"color:blue\">11</span>  \n",
    "The n-th Fibonacci number is 144  \n",
    "The sum of all Fibonacci numbers up to and including the n-th number is 376  \n",
    "The Fibonacci numbers up to and including the n-th number is \\[0, 1, 1, 2, 3, 5, 8, 13, 21, 34, 55, 89, 144\\]*"
   ]
  },
  {
   "cell_type": "code",
   "execution_count": null,
   "metadata": {
    "slideshow": {
     "slide_type": "subslide"
    }
   },
   "outputs": [],
   "source": [
    "# Solution to Problem 5\n",
    "\n",
    "def fib(n):\n",
    "    fibonacci_seq = [0, 1]\n",
    "\n",
    "    for i in range(1, n+1):\n",
    "        fibonacci_seq.append(fibonacci_seq[i-1] + fibonacci_seq[i])\n",
    "\n",
    "    return fibonacci_seq\n",
    "\n",
    "n = int(input(\"n: \"))\n",
    "seq = fib(n)\n",
    "print(\"The n-th Fibonacci number is:\", seq[-1])\n",
    "print(\"The sum of all Fibonacci numbers up to and including the n-th number is\", sum(seq))\n",
    "print(\"The Fibonacci numbers up to and including the n-th number are\", seq)"
   ]
  },
  {
   "cell_type": "markdown",
   "metadata": {
    "slideshow": {
     "slide_type": "slide"
    }
   },
   "source": [
    "### Functions\n",
    "We have already seen many functions in use, these include _len_ and _range_. So how can we create our own functions?  \n",
    "The syntax for creating a function in Python is:\n",
    "```python\n",
    "def f(x):\n",
    "    statement(s)\n",
    "```\n",
    "\n"
   ]
  },
  {
   "cell_type": "markdown",
   "metadata": {
    "slideshow": {
     "slide_type": "subslide"
    }
   },
   "source": [
    "Say we have a program where we want to calculate the following formula multiple times:\n",
    "$$f(x) = 2x^2 - 6x + 4$$\n",
    "In Python this becomes:"
   ]
  },
  {
   "cell_type": "code",
   "execution_count": 56,
   "metadata": {
    "slideshow": {
     "slide_type": "fragment"
    }
   },
   "outputs": [
    {
     "name": "stdout",
     "output_type": "stream",
     "text": [
      "144 4\n"
     ]
    }
   ],
   "source": [
    "# Implement the above function in Python\n",
    "\n",
    "def f(x):\n",
    "    result = 2*(x)**2 - 6*x + 4\n",
    "    return result\n",
    "\n",
    "result_1 = f(10)\n",
    "result_2 = f(3)\n",
    "print(result_1, result_2)"
   ]
  },
  {
   "cell_type": "markdown",
   "metadata": {
    "slideshow": {
     "slide_type": "fragment"
    }
   },
   "source": [
    "It's good programming practice to divide your code into functions. A function can be named the same way as variables, just make sure that you don't use the name of a already defined function, such as *len*."
   ]
  },
  {
   "cell_type": "markdown",
   "metadata": {
    "slideshow": {
     "slide_type": "subslide"
    }
   },
   "source": [
    "### Problem 6: Functions\n",
    "In this problem you have to program the following 4 functions:\n",
    "1. A function which takes two arguments, x and y, and returns the product of them\n",
    "2. A function which takes one argument, and prints it to the screen\n",
    "3. A function which takes zero arguments and return 42\n",
    "4. A function which takes two arguments. The function shall add 42 to the product of the two numbers and then print the result. \n",
    "\n",
    "HINT: The 4th function should reuse the other 3."
   ]
  },
  {
   "cell_type": "code",
   "execution_count": 57,
   "metadata": {
    "slideshow": {
     "slide_type": "subslide"
    }
   },
   "outputs": [
    {
     "name": "stdout",
     "output_type": "stream",
     "text": [
      "48\n"
     ]
    }
   ],
   "source": [
    "# Solution to problem 6.\n",
    "def product(x, y):\n",
    "    return x*y\n",
    "\n",
    "def print_variable(variable):\n",
    "    print(variable)\n",
    "    \n",
    "def function42():\n",
    "    return 42\n",
    "\n",
    "def final_function(x, y):\n",
    "    product_result = product(x,y)\n",
    "    sum_42 = product_result + function42()\n",
    "    print_variable(sum_42)\n",
    "\n",
    "    \n",
    "final_function(2,3)"
   ]
  },
  {
   "cell_type": "markdown",
   "metadata": {
    "slideshow": {
     "slide_type": "slide"
    }
   },
   "source": [
    "### File handling\n",
    "Often we want to work with information stored permanently in files or we want to write data to files.\n",
    "This functionality is quite neat in Python. \n",
    "\n",
    "The syntax for reading and accessing the content of a file in Python is as follows:\n",
    "```python\n",
    "with open(file_path, mode) as f:\n",
    "    statement(s)\n",
    "```\n",
    "\n",
    "file_path is the path of the file relative to the Python file we are currently in. \n",
    "The mode variable indicates what we are going to do with the file. There are in total 8 available modes, and the most interesting ones for us are:\n",
    "- *r*: Indicating that we are just reading the file\n",
    "- *w*: We are going to write over the current content of the file\n",
    "- *a*: We are going to append text to the end of the current content\n",
    "\n",
    "If we open a file that does not exist it will be created if we use the *w* mode.\n"
   ]
  },
  {
   "cell_type": "code",
   "execution_count": null,
   "metadata": {
    "slideshow": {
     "slide_type": "subslide"
    }
   },
   "outputs": [],
   "source": [
    "# Reading a file and printing the content\n",
    "with open(\"./Resources/fibonacci.txt\", \"w\") as fibonacci_file:\n",
    "    fib_sequence = fib(1000)\n",
    "    \n",
    "    for fib_number in fib_sequence:\n",
    "        string_for_file = str(fib_number) + \"\\n\"\n",
    "        fibonacci_file.write(string_for_file)"
   ]
  },
  {
   "cell_type": "code",
   "execution_count": null,
   "metadata": {
    "slideshow": {
     "slide_type": "fragment"
    }
   },
   "outputs": [],
   "source": [
    "# Reading a file\n",
    "with open(\"./Resources/fibonacci.txt\", \"r\") as fibonacci_file:\n",
    "    file_as_list = fibonacci_file.readlines()\n",
    "    for line in file_as_list:\n",
    "        print(line)"
   ]
  },
  {
   "cell_type": "markdown",
   "metadata": {
    "slideshow": {
     "slide_type": "subslide"
    }
   },
   "source": [
    "### Problem 7: File handling\n",
    "This problem is divided into 3 parts, and each part could potentially be its own function, but that's up to you:\n",
    "1. Store the *n* first Fibonacci numbers to a file called *fibonacci.txt*. Make sure to re-use the Fibonacci function implemented earlier.\n",
    "2. Read the file your wrote to in the previous step and store the number of occurences of each individual character in that file to a dictionary\n",
    "3. Print the key in the dictionary from the previous step that has the highest value, i.e. print the character that appeared most times in the file.\n",
    "\n",
    "HINT: Remember that dictionaries are created in the following way:\n",
    "```python\n",
    "my_dictionary = {}\n",
    "my_dictionary[\"my_first_key\"] = \"my_first_value\"\n",
    "my_dictionary[\"my_second_key\"] = \"my_second_value\"\n",
    "list_of_all_keys = list(my_dictionary.keys())\n",
    "```"
   ]
  }
 ],
 "metadata": {
  "celltoolbar": "Slideshow",
  "kernelspec": {
   "display_name": "Python 3",
   "language": "python",
   "name": "python3"
  },
  "language_info": {
   "codemirror_mode": {
    "name": "ipython",
    "version": 3
   },
   "file_extension": ".py",
   "mimetype": "text/x-python",
   "name": "python",
   "nbconvert_exporter": "python",
   "pygments_lexer": "ipython3",
   "version": "3.8.0"
  }
 },
 "nbformat": 4,
 "nbformat_minor": 2
}